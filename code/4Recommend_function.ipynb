{
 "cells": [
  {
   "cell_type": "markdown",
   "metadata": {},
   "source": [
    "# Spark Recommender System"
   ]
  },
  {
   "cell_type": "code",
   "execution_count": 1,
   "metadata": {},
   "outputs": [],
   "source": [
    "# import necessary modules\n",
    "import os\n",
    "import shutil\n",
    "import pyspark as ps\n",
    "from pyspark.ml import Pipeline, Transformer\n",
    "from pyspark.ml.evaluation import RegressionEvaluator\n",
    "from pyspark.ml.recommendation import ALS, ALSModel\n",
    "from pyspark.sql import Row\n",
    "from pyspark.sql.types import DoubleType"
   ]
  },
  {
   "cell_type": "code",
   "execution_count": 2,
   "metadata": {},
   "outputs": [
    {
     "name": "stderr",
     "output_type": "stream",
     "text": [
      "Setting default log level to \"WARN\".\n",
      "To adjust logging level use sc.setLogLevel(newLevel). For SparkR, use setLogLevel(newLevel).\n",
      "23/12/23 11:31:54 WARN NativeCodeLoader: Unable to load native-hadoop library for your platform... using builtin-java classes where applicable\n"
     ]
    },
    {
     "name": "stdout",
     "output_type": "stream",
     "text": [
      "3.5.0\n"
     ]
    }
   ],
   "source": [
    "# create spark context\n",
    "spark = (ps.sql.SparkSession.builder\n",
    "        .appName(\"ALS model\")\n",
    "        .getOrCreate()\n",
    "        )\n",
    "sc = spark.sparkContext\n",
    "print(spark.version)"
   ]
  },
  {
   "cell_type": "markdown",
   "metadata": {},
   "source": [
    "## Read in model\n",
    "\n",
    "We will use user clusters as part of user features for our model here. "
   ]
  },
  {
   "cell_type": "code",
   "execution_count": 3,
   "metadata": {},
   "outputs": [],
   "source": [
    "final_model = ALSModel.load(\"./model/bestmodel\")\n"
   ]
  },
  {
   "cell_type": "code",
   "execution_count": 4,
   "metadata": {},
   "outputs": [
    {
     "name": "stderr",
     "output_type": "stream",
     "text": [
      "23/12/23 11:32:03 WARN InstanceBuilder: Failed to load implementation from:dev.ludovic.netlib.blas.JNIBLAS\n",
      "[Stage 3:=======================================================>(99 + 1) / 100]\r"
     ]
    },
    {
     "name": "stdout",
     "output_type": "stream",
     "text": [
      "+--------------+--------------------+\n",
      "|customer_index|     recommendations|\n",
      "+--------------+--------------------+\n",
      "|            26|[{4332, 1.1560177...|\n",
      "|            27|[{7645, 5.0136065...|\n",
      "|            28|[{8766, 1.2823216...|\n",
      "|            31|[{2857, 4.93124},...|\n",
      "+--------------+--------------------+\n",
      "only showing top 4 rows\n",
      "\n"
     ]
    },
    {
     "name": "stderr",
     "output_type": "stream",
     "text": [
      "                                                                                \r"
     ]
    }
   ],
   "source": [
    "# generate top_n product recommendations for user\n",
    "nrecommend = 5\n",
    "user_recs = final_model.recommendForAllUsers(nrecommend)\n",
    "user_recs.show(4)"
   ]
  },
  {
   "cell_type": "code",
   "execution_count": 5,
   "metadata": {},
   "outputs": [
    {
     "name": "stderr",
     "output_type": "stream",
     "text": [
      "                                                                                \r"
     ]
    }
   ],
   "source": [
    "recs = user_recs.toPandas()"
   ]
  },
  {
   "cell_type": "markdown",
   "metadata": {},
   "source": [
    "## Recommender Function"
   ]
  },
  {
   "cell_type": "code",
   "execution_count": 6,
   "metadata": {},
   "outputs": [],
   "source": [
    "import pandas as pd\n",
    "\n",
    "user_features_df = pd.read_csv(\"./model_data/user_model.csv\")\n",
    "products = pd.read_csv(\"./model_data/item_model.csv\")"
   ]
  },
  {
   "cell_type": "code",
   "execution_count": 7,
   "metadata": {},
   "outputs": [],
   "source": [
    "nrecommend = 5\n",
    "def user_recommendations(user_id, top_n = 3):\n",
    "    \n",
    "    if top_n > nrecommend:\n",
    "        print(\"Please select up to {} items to recommend\".format(nrecommend))\n",
    "        return; \n",
    "    \n",
    "    prior_purchases = user_features_df[user_features_df['customer_unique_id'] == user_id]\\\n",
    "                                                                                        ['product_id'].unique()\n",
    "    num_items = len(prior_purchases)\n",
    "    \n",
    "    if num_items < 3:\n",
    "        items = num_items\n",
    "    else:\n",
    "        items = 3\n",
    "    \n",
    "    print(\"User: {}\\n\".format(user_id))\n",
    "    print(\"Known positives: \")\n",
    "    for n in range(items):\n",
    "        known_like_product = user_features_df[user_features_df['customer_unique_id'] == user_id]\\\n",
    "                                                            ['product_id'].unique()[n]\n",
    "        known_like_category = products[products['product_id'] == known_like_product]\\\n",
    "                                                            ['product_category_name'].unique()[0]\n",
    "    \n",
    "        print(\"\\t\", known_like_product)\n",
    "        print(\"\\t\", known_like_category, \"\\n\")\n",
    "    \n",
    "    \n",
    "    customer_index = user_features_df[user_features_df['customer_unique_id'] == user_id]\\\n",
    "                                                            ['customer_index'].unique()[0]\n",
    "    print(\"Top {} Recommendations: \\n\".format(top_n))\n",
    "    rec_products = []\n",
    "    \n",
    "    for n in range(top_n):\n",
    "        \n",
    "        rec_products.append(list(recs[recs['customer_index'] == customer_index]['recommendations'])[0][n][0])\n",
    "        \n",
    "        print(\"{}.\\n\".format(n+1), products[products['product_index'] == rec_products[n]]\\\n",
    "                                                  [['product_id', 'product_category_name']].iloc[0][0])\n",
    "        \n",
    "        print(products[products['product_index'] == rec_products[n]]\\\n",
    "                                                  [['product_id', 'product_category_name']].iloc[0][1])"
   ]
  },
  {
   "cell_type": "markdown",
   "metadata": {},
   "source": [
    "__Test for customer_id = 'c8ed31310fc440a3f8031b177f9842c3'__"
   ]
  },
  {
   "cell_type": "code",
   "execution_count": 8,
   "metadata": {},
   "outputs": [
    {
     "name": "stdout",
     "output_type": "stream",
     "text": [
      "User: c8ed31310fc440a3f8031b177f9842c3\n",
      "\n",
      "Known positives: \n",
      "\t 1065e0ebef073787a7bf691924c60eeb\n",
      "\t construction_tools_construction \n",
      "\n",
      "\t 0cf2faf9749f53924cea652a09d8e327\n",
      "\t construction_tools_construction \n",
      "\n",
      "\t 0de59eddc63167215c972b0d785ffa7b\n",
      "\t construction_tools_construction \n",
      "\n",
      "Top 5 Recommendations: \n",
      "\n",
      "1.\n",
      " d68eca92c5a12467b856479934dc39af\n",
      "telephony\n",
      "2.\n",
      " f399bbedb1d21192dffefc4a8b30a229\n",
      "housewares\n",
      "3.\n",
      " 2c3dfe5b09e660349378f30d628d70bb\n",
      "construction_tools_construction\n",
      "4.\n",
      " 6b770b5934dbdb29064efdf34bfa6cf5\n",
      "sports_leisure\n",
      "5.\n",
      " f20b79bd0939728b29d409062c5c486b\n",
      "housewares\n"
     ]
    }
   ],
   "source": [
    "user_recommendations('c8ed31310fc440a3f8031b177f9842c3', top_n=5)"
   ]
  },
  {
   "cell_type": "markdown",
   "metadata": {},
   "source": [
    "__Test for customer_id = '698e1cf81d01a3d389d96145f7fa6df8'__"
   ]
  },
  {
   "cell_type": "code",
   "execution_count": 9,
   "metadata": {},
   "outputs": [
    {
     "name": "stdout",
     "output_type": "stream",
     "text": [
      "User: b56d31572e47b1e6d1b88d3128f2226b\n",
      "\n",
      "Known positives: \n",
      "\t 9d364fec2ac9a80f64bae58b5c034832\n",
      "\t housewares \n",
      "\n",
      "Top 5 Recommendations: \n",
      "\n",
      "1.\n",
      " 5dddb31154cbd968caa4706ef0f4e0f0\n",
      "garden_tools\n",
      "2.\n",
      " 2ca431a4c4a04c65e66c345e282d0a54\n",
      "small_appliances\n",
      "3.\n",
      " acffe5d7cd56e6b564cf6841486644ff\n",
      "health_beauty\n",
      "4.\n",
      " 3014e35fd70fce29095ced5cdc89f4ce\n",
      "telephony\n",
      "5.\n",
      " 42eb5329dd0ee3d76d135ce04c84451b\n",
      "food_drink\n"
     ]
    }
   ],
   "source": [
    "user_recommendations('b56d31572e47b1e6d1b88d3128f2226b', top_n=5)"
   ]
  },
  {
   "cell_type": "markdown",
   "metadata": {},
   "source": [
    "__Test for customer_id = '89be58cbdd6ef318e3ed93fdb22be178'__"
   ]
  },
  {
   "cell_type": "code",
   "execution_count": 10,
   "metadata": {},
   "outputs": [
    {
     "name": "stdout",
     "output_type": "stream",
     "text": [
      "User: 89be58cbdd6ef318e3ed93fdb22be178\n",
      "\n",
      "Known positives: \n",
      "\t 3fdb534dccf5bc9ab0406944b913787d\n",
      "\t diapers_and_hygiene \n",
      "\n",
      "Top 5 Recommendations: \n",
      "\n",
      "1.\n",
      " 0723afa6f9a5a11c512396db0bb03051\n",
      "stationery\n",
      "2.\n",
      " 50627d7c3dd43902d64134574befe12f\n",
      "computers_accessories\n",
      "3.\n",
      " 61c9ce380f22395eecde18d76d118c47\n",
      "electronics\n",
      "4.\n",
      " 72d135605b8f0dd92505c47ca12157bd\n",
      "health_beauty\n",
      "5.\n",
      " 7e646f7e1e428a1ddde5a18dd9d42e95\n",
      "office_furniture\n"
     ]
    }
   ],
   "source": [
    "user_recommendations('89be58cbdd6ef318e3ed93fdb22be178', top_n=5)"
   ]
  },
  {
   "cell_type": "code",
   "execution_count": 11,
   "metadata": {},
   "outputs": [
    {
     "name": "stdout",
     "output_type": "stream",
     "text": [
      "User: c8ed31310fc440a3f8031b177f9842c3\n",
      "\n",
      "Known positives: \n",
      "\t 1065e0ebef073787a7bf691924c60eeb\n",
      "\t construction_tools_construction \n",
      "\n",
      "\t 0cf2faf9749f53924cea652a09d8e327\n",
      "\t construction_tools_construction \n",
      "\n",
      "\t 0de59eddc63167215c972b0d785ffa7b\n",
      "\t construction_tools_construction \n",
      "\n",
      "Top 5 Recommendations: \n",
      "\n",
      "1.\n",
      " d68eca92c5a12467b856479934dc39af\n",
      "telephony\n",
      "2.\n",
      " f399bbedb1d21192dffefc4a8b30a229\n",
      "housewares\n",
      "3.\n",
      " 2c3dfe5b09e660349378f30d628d70bb\n",
      "construction_tools_construction\n",
      "4.\n",
      " 6b770b5934dbdb29064efdf34bfa6cf5\n",
      "sports_leisure\n",
      "5.\n",
      " f20b79bd0939728b29d409062c5c486b\n",
      "housewares\n"
     ]
    }
   ],
   "source": [
    "user_recommendations('c8ed31310fc440a3f8031b177f9842c3', top_n=5)"
   ]
  },
  {
   "cell_type": "code",
   "execution_count": null,
   "metadata": {},
   "outputs": [],
   "source": []
  }
 ],
 "metadata": {
  "kernelspec": {
   "display_name": "Python 3",
   "language": "python",
   "name": "python3"
  },
  "language_info": {
   "codemirror_mode": {
    "name": "ipython",
    "version": 3
   },
   "file_extension": ".py",
   "mimetype": "text/x-python",
   "name": "python",
   "nbconvert_exporter": "python",
   "pygments_lexer": "ipython3",
   "version": "3.11.5"
  }
 },
 "nbformat": 4,
 "nbformat_minor": 2
}
