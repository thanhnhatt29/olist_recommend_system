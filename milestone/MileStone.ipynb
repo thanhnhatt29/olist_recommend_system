{
 "cells": [
  {
   "cell_type": "markdown",
   "id": "70217e0a",
   "metadata": {
    "slideshow": {
     "slide_type": "slide"
    }
   },
   "source": [
    "# Recommendation systems in E-commerce"
   ]
  },
  {
   "cell_type": "markdown",
   "id": "68969f02",
   "metadata": {
    "slideshow": {
     "slide_type": "subslide"
    }
   },
   "source": [
    "Danh sách thành viên nhóm 7 - S7:\n",
    "\n",
    "| STT | MSSV | Họ và Tên |\n",
    "| --- | --- | :-- |\n",
    "| 25 | 20133076 | Văn Mai Thanh Nhật |\n",
    "| 28 | 20133082 | Huỳnh Minh Phước |\n",
    "| 3 | 20133035 | Trần Đông |\n",
    "| 1 | 20133027 | Nguyễn Hiếu Gia Cường |\n"
   ]
  },
  {
   "cell_type": "markdown",
   "id": "a93a3e2d",
   "metadata": {
    "slideshow": {
     "slide_type": "slide"
    }
   },
   "source": [
    "## 1. Member contributions\n",
    "Data preprocessing: Nhật, Cường\n",
    "\n",
    "Modeling + CV : Đông, Phước"
   ]
  },
  {
   "cell_type": "markdown",
   "id": "e427e1e3",
   "metadata": {
    "slideshow": {
     "slide_type": "slide"
    }
   },
   "source": [
    "## 2. Project information\n",
    "#### Problem: A recommend system for Ecommerce website, where the number of second-time customers is quite small\n",
    "#### Dataset, Input/ Output: Olist dataset, ['customer_unique_id', 'product_id', 'review_score']\n",
    "#### Evaluation matrix: RMSE"
   ]
  },
  {
   "cell_type": "markdown",
   "id": "b9e533d6",
   "metadata": {
    "slideshow": {
     "slide_type": "slide"
    }
   },
   "source": [
    "## 3. Solution"
   ]
  },
  {
   "cell_type": "markdown",
   "id": "6cf5b43b",
   "metadata": {
    "slideshow": {
     "slide_type": "subslide"
    }
   },
   "source": [
    "### Data preprocessing\n",
    "\n",
    "- Combining Datasets\n",
    "- Handle null values, Handle exception\n",
    "- Data Transformation"
   ]
  },
  {
   "cell_type": "markdown",
   "id": "ff29c71c",
   "metadata": {
    "slideshow": {
     "slide_type": "subslide"
    }
   },
   "source": [
    "### Modeling\n",
    "### Algorithms\n",
    "\n",
    "- Collaborative filtering: Alternating Least Square (ALS)\n",
    "- Evaluation Metrics\n",
    "    - RMSE (Root mean squared error)\n",
    "    - MAE (Mean Absolute Error)\n",
    "- Evaluation method : Cross Validation\n"
   ]
  },
  {
   "cell_type": "markdown",
   "id": "00dfa507",
   "metadata": {
    "slideshow": {
     "slide_type": "slide"
    }
   },
   "source": [
    "## 4. Results\n",
    "- RMSE still very high with ratingCols = 'review_score'\n",
    "- The data set has not been thoroughly exploited"
   ]
  },
  {
   "cell_type": "markdown",
   "id": "b758b453",
   "metadata": {
    "slideshow": {
     "slide_type": "slide"
    }
   },
   "source": [
    "## 5. Planning\n",
    "- Cleaning Data\n",
    "- Calculate a new variable for the ratingCols column from \n",
    "\n",
    "MileStone Video: https://drive.google.com/file/d/1M6gICueFUlixWfpywh5h0jq0mWTaXq1l/view"
   ]
  }
 ],
 "metadata": {
  "celltoolbar": "Slideshow",
  "kernelspec": {
   "display_name": "Python 3 (ipykernel)",
   "language": "python",
   "name": "python3"
  },
  "language_info": {
   "codemirror_mode": {
    "name": "ipython",
    "version": 3
   },
   "file_extension": ".py",
   "mimetype": "text/x-python",
   "name": "python",
   "nbconvert_exporter": "python",
   "pygments_lexer": "ipython3",
   "version": "3.10.13"
  }
 },
 "nbformat": 4,
 "nbformat_minor": 5
}
