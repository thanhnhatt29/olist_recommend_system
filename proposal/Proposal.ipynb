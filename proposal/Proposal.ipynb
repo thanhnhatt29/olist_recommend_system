{
 "cells": [
  {
   "cell_type": "markdown",
   "id": "70217e0a",
   "metadata": {
    "slideshow": {
     "slide_type": "slide"
    }
   },
   "source": [
    "# Recommendation systems in E-commerce"
   ]
  },
  {
   "cell_type": "markdown",
   "id": "68969f02",
   "metadata": {
    "slideshow": {
     "slide_type": "subslide"
    }
   },
   "source": [
    "Danh sách thành viên nhóm 7 - S7:\n",
    "\n",
    "| STT | MSSV | Họ và Tên |\n",
    "| --- | --- | :-- |\n",
    "| 25 | 20133076 | Văn Mai Thanh Nhật |\n",
    "| 28 | 20133082 | Huỳnh Minh Phước |\n",
    "| 3 | 20133035 | Trần Đông |\n",
    "| 1 | 20133027 | Nguyễn Hiếu Gia Cường |\n"
   ]
  },
  {
   "cell_type": "markdown",
   "id": "2afb6504",
   "metadata": {
    "slideshow": {
     "slide_type": "slide"
    }
   },
   "source": [
    "## 1 Dataset:\n",
    "**Dataset**: *Brazilian E-Commerce Public Dataset by Olist*\n",
    "\n",
    "**Source**:  [olist.com](https://www.olist.com/)"
   ]
  },
  {
   "cell_type": "markdown",
   "id": "a93a3e2d",
   "metadata": {
    "slideshow": {
     "slide_type": "slide"
    }
   },
   "source": [
    "## 2. Plan for Data analysis with PySpark"
   ]
  },
  {
   "cell_type": "markdown",
   "id": "6cf5b43b",
   "metadata": {
    "slideshow": {
     "slide_type": "subslide"
    }
   },
   "source": [
    "### Data preprocessing\n",
    "\n",
    "- Combining Datasets\n",
    "- Handle null values, Handle exception\n",
    "- Data Transformation\n",
    "\n",
    "### Visualize data - EDA"
   ]
  },
  {
   "cell_type": "markdown",
   "id": "ff29c71c",
   "metadata": {
    "slideshow": {
     "slide_type": "subslide"
    }
   },
   "source": [
    "### Modeling\n",
    "### Algorithms\n",
    "\n",
    "- Collaborative filtering: Alternating Least Square (ALS)\n",
    "- Evaluation Metrics\n",
    "    - RMSE (Root mean squared error)\n",
    "    - MAE (Mean Absolute Error)\n",
    "- Evaluation method : Cross Validation\n"
   ]
  },
  {
   "cell_type": "markdown",
   "id": "308b7bfa",
   "metadata": {
    "slideshow": {
     "slide_type": "subslide"
    }
   },
   "source": [
    "### Define variable\n",
    "- Input: \n",
    "    - userCol='customer_index'\n",
    "\t- itemCol=\"product_index\"\n",
    "    - ratingCol='rating'\n",
    "\n",
    "- Output: Model\n",
    "    - recommend for user, all users\n",
    "\t- recommend for product, all products\n",
    "\n",
    "- Cold start problem?\n",
    "- Content-based recommendation?"
   ]
  },
  {
   "cell_type": "markdown",
   "id": "1519e4c8",
   "metadata": {
    "slideshow": {
     "slide_type": "slide"
    }
   },
   "source": [
    "## 3. Tasks assignment "
   ]
  },
  {
   "cell_type": "markdown",
   "id": "e93a418c",
   "metadata": {
    "slideshow": {
     "slide_type": "fragment"
    }
   },
   "source": [
    "| NoT | Task                                | Assigned |\n",
    "|-----|:------------------------------------|----------|\n",
    "| 1   | Data preprocessing                  |   Cường       |\n",
    "| 2   | Visualize - EDA                     |    Nhật      |\n",
    "| 3   | Feature Selection - Implement ALS   |      Cường    |\n",
    "| 4   | Implement cross validation        |    Phước, Đông     |\n",
    "| 5   | Chose best hyperparameters with metrics - Train Final Model   |     Phước     |\n",
    "| 6   | Generate recommendations            |     Đông     |\n",
    "| 7   | Cold start, content-based?            |     Nhật     |\n"
   ]
  },
  {
   "cell_type": "code",
   "execution_count": null,
   "id": "1e4f7553",
   "metadata": {},
   "outputs": [],
   "source": []
  }
 ],
 "metadata": {
  "celltoolbar": "Slideshow",
  "kernelspec": {
   "display_name": "Python 3 (ipykernel)",
   "language": "python",
   "name": "python3"
  },
  "language_info": {
   "codemirror_mode": {
    "name": "ipython",
    "version": 3
   },
   "file_extension": ".py",
   "mimetype": "text/x-python",
   "name": "python",
   "nbconvert_exporter": "python",
   "pygments_lexer": "ipython3",
   "version": "3.10.13"
  }
 },
 "nbformat": 4,
 "nbformat_minor": 5
}
